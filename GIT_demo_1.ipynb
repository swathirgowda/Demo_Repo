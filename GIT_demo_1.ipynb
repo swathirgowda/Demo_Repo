{
 "cells": [
  {
   "cell_type": "code",
   "execution_count": 1,
   "id": "f5d3b2ef",
   "metadata": {},
   "outputs": [
    {
     "name": "stdout",
     "output_type": "stream",
     "text": [
      "Hello welcome\n"
     ]
    }
   ],
   "source": [
    "print(\"Hello welcome\")"
   ]
  },
  {
   "cell_type": "code",
   "execution_count": 2,
   "id": "04c6efee",
   "metadata": {},
   "outputs": [],
   "source": [
    "def even_or_odd(num):\n",
    "    if num%2==0:\n",
    "        print(\"Even\")\n",
    "    else:\n",
    "        print(\"Odd\")"
   ]
  },
  {
   "cell_type": "code",
   "execution_count": 9,
   "id": "ce98f7df",
   "metadata": {},
   "outputs": [],
   "source": [
    "result = 10"
   ]
  },
  {
   "cell_type": "code",
   "execution_count": 10,
   "id": "9194dca4",
   "metadata": {},
   "outputs": [
    {
     "name": "stdout",
     "output_type": "stream",
     "text": [
      "10\n"
     ]
    }
   ],
   "source": [
    "print(result)"
   ]
  },
  {
   "cell_type": "code",
   "execution_count": 6,
   "id": "d303bf42",
   "metadata": {},
   "outputs": [],
   "source": [
    "def prime(num):\n",
    "    count = 0 \n",
    "    for i in range(1,num):\n",
    "        if num%i==0:\n",
    "            count=count+1\n",
    "    if count==1:\n",
    "        print(num,\" is a Prime number\")\n",
    "    else:\n",
    "        print(num,\" is not a Prime number\")"
   ]
  },
  {
   "cell_type": "code",
   "execution_count": 7,
   "id": "6811ce0a",
   "metadata": {},
   "outputs": [
    {
     "name": "stdout",
     "output_type": "stream",
     "text": [
      "20  is not a Prime number\n"
     ]
    }
   ],
   "source": [
    "prime(20)"
   ]
  },
  {
   "cell_type": "code",
   "execution_count": 8,
   "id": "70e6ac9a",
   "metadata": {},
   "outputs": [
    {
     "name": "stdout",
     "output_type": "stream",
     "text": [
      "3  is a Prime number\n"
     ]
    }
   ],
   "source": [
    "prime(3)"
   ]
  },
  {
   "cell_type": "code",
   "execution_count": null,
   "id": "5e5bb32e",
   "metadata": {},
   "outputs": [],
   "source": []
  }
 ],
 "metadata": {
  "kernelspec": {
   "display_name": "Python 3 (ipykernel)",
   "language": "python",
   "name": "python3"
  },
  "language_info": {
   "codemirror_mode": {
    "name": "ipython",
    "version": 3
   },
   "file_extension": ".py",
   "mimetype": "text/x-python",
   "name": "python",
   "nbconvert_exporter": "python",
   "pygments_lexer": "ipython3",
   "version": "3.9.13"
  }
 },
 "nbformat": 4,
 "nbformat_minor": 5
}
